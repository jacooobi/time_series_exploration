{
 "cells": [
  {
   "cell_type": "code",
   "execution_count": 2,
   "metadata": {},
   "outputs": [],
   "source": [
    "import pandas as pd\n",
    "import numpy as np"
   ]
  },
  {
   "cell_type": "code",
   "execution_count": 3,
   "metadata": {},
   "outputs": [],
   "source": [
    "# Loading frames\n",
    "df = pd.read_csv('data/sales_train.csv')\n",
    "\n",
    "#df_shops = pd.read_csv('data/shops.csv')\n",
    "#df_items = pd.read_csv('data/items.csv')\n",
    "#df_categories = pd.read_csv('data/item_categories.csv')"
   ]
  },
  {
   "cell_type": "code",
   "execution_count": 5,
   "metadata": {},
   "outputs": [],
   "source": [
    "# Modifying the dataframes\n",
    "df['date'] = pd.to_datetime(df['date'], format='%d.%m.%Y')\n",
    "df['refund'] = np.where(df['item_cnt_day'] < 0, 'yes', 'no')\n",
    "df['transaction_value'] = df['item_cnt_day'] * df['item_price']\n",
    "df['year'] = df['date'].dt.year"
   ]
  },
  {
   "cell_type": "code",
   "execution_count": 7,
   "metadata": {},
   "outputs": [],
   "source": [
    "# saving\n",
    "df.to_csv('data/updated/sales_train.csv')"
   ]
  },
  {
   "cell_type": "code",
   "execution_count": null,
   "metadata": {},
   "outputs": [],
   "source": [
    "\n",
    "\n",
    "# data = pd.merge(df, df_shops, on='shop_id')\n",
    "# full_data = pd.merge(pd.merge(data, df_items, on='item_id'), df_categories, on='item_category_id')"
   ]
  }
 ],
 "metadata": {
  "kernelspec": {
   "display_name": "opencv",
   "language": "python",
   "name": "opencv"
  },
  "language_info": {
   "codemirror_mode": {
    "name": "ipython",
    "version": 3
   },
   "file_extension": ".py",
   "mimetype": "text/x-python",
   "name": "python",
   "nbconvert_exporter": "python",
   "pygments_lexer": "ipython3",
   "version": "3.5.5"
  }
 },
 "nbformat": 4,
 "nbformat_minor": 2
}
